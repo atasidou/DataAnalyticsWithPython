{
 "cells": [
  {
   "cell_type": "code",
   "execution_count": null,
   "metadata": {},
   "outputs": [],
   "source": [
    "import os\n",
    "nltk_data_folder = os.path.join(os.getcwd(), 'nltk_data')\n",
    "os.environ['NLTK_DATA'] = nltk_data_folder\n",
    "print(os.environ['NLTK_DATA'])"
   ]
  },
  {
   "cell_type": "code",
   "execution_count": null,
   "metadata": {},
   "outputs": [],
   "source": [
    "scores = [5, 5, 5, 1, 1, 1]"
   ]
  },
  {
   "cell_type": "code",
   "execution_count": null,
   "metadata": {},
   "outputs": [],
   "source": [
    "reviews = [\"I loved our hotel\", \"Staff was awesome\", \"Awesome staff and loved the hotel\",\n",
    "           \"I hated our hotel\", \"Staff was rude\", \"Rude staff and hated the hotel\"]"
   ]
  },
  {
   "cell_type": "code",
   "execution_count": null,
   "metadata": {},
   "outputs": [],
   "source": [
    "import nltk\n",
    "nltk.download('wordnet', download_dir=nltk_data_folder)\n",
    "from nltk.stem import WordNetLemmatizer\n",
    "wordnet_lemmatizer = WordNetLemmatizer()\n",
    "stemmed = [[wordnet_lemmatizer.lemmatize(word, pos=\"v\") for word in review.split()] for review in reviews ]\n",
    "stemmed"
   ]
  },
  {
   "cell_type": "code",
   "execution_count": null,
   "metadata": {},
   "outputs": [],
   "source": [
    "lower_cased = [[word.lower() for word in s] for s in stemmed]\n",
    "lower_cased"
   ]
  },
  {
   "cell_type": "code",
   "execution_count": null,
   "metadata": {},
   "outputs": [],
   "source": [
    "# importing stopwors from nltk library\n",
    "from nltk import word_tokenize\n",
    "nltk.download('stopwords', download_dir=nltk_data_folder)\n",
    "\n",
    "from nltk.corpus import stopwords\n",
    "a = set(stopwords.words(\"english\"))\n",
    "stopwordsremoved = [[word for word in s if word not in a] for s in lower_cased]\n",
    "stopwordsremoved"
   ]
  },
  {
   "cell_type": "code",
   "execution_count": null,
   "metadata": {},
   "outputs": [],
   "source": [
    "stemmed_concat = [' '.join(review) for review in stopwordsremoved]\n",
    "stemmed_concat"
   ]
  },
  {
   "cell_type": "code",
   "execution_count": null,
   "metadata": {},
   "outputs": [],
   "source": [
    "from sklearn.feature_extraction.text import CountVectorizer"
   ]
  },
  {
   "cell_type": "code",
   "execution_count": null,
   "metadata": {},
   "outputs": [],
   "source": [
    "my_bow = CountVectorizer()"
   ]
  },
  {
   "cell_type": "code",
   "execution_count": null,
   "metadata": {},
   "outputs": [],
   "source": [
    "bow = my_bow.fit_transform(stemmed_concat)"
   ]
  },
  {
   "cell_type": "code",
   "execution_count": null,
   "metadata": {},
   "outputs": [],
   "source": [
    "feature_names = my_bow.get_feature_names()\n",
    "print(feature_names)"
   ]
  },
  {
   "cell_type": "code",
   "execution_count": null,
   "metadata": {},
   "outputs": [],
   "source": [
    "import pandas as pd\n",
    "show_features_df = pd.DataFrame.from_dict({feature_name: bow.toarray()[:, c] for c, feature_name in enumerate(feature_names)})\n",
    "show_features_df['original'] = reviews\n",
    "show_features_df['stemmed'] = stemmed\n",
    "show_features_df['lower_cased'] = lower_cased\n",
    "show_features_df['stop_words_removed'] = stopwordsremoved\n",
    "show_features_df"
   ]
  },
  {
   "cell_type": "code",
   "execution_count": null,
   "metadata": {},
   "outputs": [],
   "source": [
    "from sklearn import svm\n",
    "\n",
    "SVM = svm.SVC(random_state=0)\n",
    "SVM.fit(bow, scores)\n",
    "predicted = SVM.predict(bow)"
   ]
  },
  {
   "cell_type": "code",
   "execution_count": null,
   "metadata": {},
   "outputs": [],
   "source": [
    "import pandas as pd\n",
    "pd.DataFrame({'review': reviews, 'original score': scores, 'predicted scores': predicted})"
   ]
  }
 ],
 "metadata": {
  "kernelspec": {
   "display_name": "Python 3",
   "language": "python",
   "name": "python3"
  },
  "language_info": {
   "codemirror_mode": {
    "name": "ipython",
    "version": 3
   },
   "file_extension": ".py",
   "mimetype": "text/x-python",
   "name": "python",
   "nbconvert_exporter": "python",
   "pygments_lexer": "ipython3",
   "version": "3.8.5"
  }
 },
 "nbformat": 4,
 "nbformat_minor": 4
}
