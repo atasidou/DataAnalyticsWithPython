{
 "cells": [
  {
   "cell_type": "code",
   "execution_count": 1,
   "metadata": {},
   "outputs": [],
   "source": [
    "%matplotlib inline\n",
    "import numpy as np\n",
    "import pandas as pd\n",
    "import matplotlib.pyplot as plt"
   ]
  },
  {
   "cell_type": "code",
   "execution_count": 2,
   "metadata": {},
   "outputs": [
    {
     "data": {
      "text/html": [
       "<div>\n",
       "<style scoped>\n",
       "    .dataframe tbody tr th:only-of-type {\n",
       "        vertical-align: middle;\n",
       "    }\n",
       "\n",
       "    .dataframe tbody tr th {\n",
       "        vertical-align: top;\n",
       "    }\n",
       "\n",
       "    .dataframe thead th {\n",
       "        text-align: right;\n",
       "    }\n",
       "</style>\n",
       "<table border=\"1\" class=\"dataframe\">\n",
       "  <thead>\n",
       "    <tr style=\"text-align: right;\">\n",
       "      <th></th>\n",
       "      <th>fruit_label</th>\n",
       "      <th>fruit_name</th>\n",
       "      <th>fruit_subtype</th>\n",
       "      <th>mass</th>\n",
       "      <th>width</th>\n",
       "      <th>height</th>\n",
       "      <th>color_score</th>\n",
       "    </tr>\n",
       "  </thead>\n",
       "  <tbody>\n",
       "    <tr>\n",
       "      <th>0</th>\n",
       "      <td>1</td>\n",
       "      <td>apple</td>\n",
       "      <td>granny_smith</td>\n",
       "      <td>192</td>\n",
       "      <td>8.4</td>\n",
       "      <td>7.3</td>\n",
       "      <td>0.55</td>\n",
       "    </tr>\n",
       "    <tr>\n",
       "      <th>1</th>\n",
       "      <td>1</td>\n",
       "      <td>apple</td>\n",
       "      <td>granny_smith</td>\n",
       "      <td>180</td>\n",
       "      <td>8.0</td>\n",
       "      <td>6.8</td>\n",
       "      <td>0.59</td>\n",
       "    </tr>\n",
       "    <tr>\n",
       "      <th>2</th>\n",
       "      <td>1</td>\n",
       "      <td>apple</td>\n",
       "      <td>granny_smith</td>\n",
       "      <td>176</td>\n",
       "      <td>7.4</td>\n",
       "      <td>7.2</td>\n",
       "      <td>0.60</td>\n",
       "    </tr>\n",
       "    <tr>\n",
       "      <th>3</th>\n",
       "      <td>2</td>\n",
       "      <td>mandarin</td>\n",
       "      <td>mandarin</td>\n",
       "      <td>86</td>\n",
       "      <td>6.2</td>\n",
       "      <td>4.7</td>\n",
       "      <td>0.80</td>\n",
       "    </tr>\n",
       "    <tr>\n",
       "      <th>4</th>\n",
       "      <td>2</td>\n",
       "      <td>mandarin</td>\n",
       "      <td>mandarin</td>\n",
       "      <td>84</td>\n",
       "      <td>6.0</td>\n",
       "      <td>4.6</td>\n",
       "      <td>0.79</td>\n",
       "    </tr>\n",
       "    <tr>\n",
       "      <th>5</th>\n",
       "      <td>2</td>\n",
       "      <td>mandarin</td>\n",
       "      <td>mandarin</td>\n",
       "      <td>80</td>\n",
       "      <td>5.8</td>\n",
       "      <td>4.3</td>\n",
       "      <td>0.77</td>\n",
       "    </tr>\n",
       "    <tr>\n",
       "      <th>6</th>\n",
       "      <td>2</td>\n",
       "      <td>mandarin</td>\n",
       "      <td>mandarin</td>\n",
       "      <td>80</td>\n",
       "      <td>5.9</td>\n",
       "      <td>4.3</td>\n",
       "      <td>0.81</td>\n",
       "    </tr>\n",
       "    <tr>\n",
       "      <th>7</th>\n",
       "      <td>2</td>\n",
       "      <td>mandarin</td>\n",
       "      <td>mandarin</td>\n",
       "      <td>76</td>\n",
       "      <td>5.8</td>\n",
       "      <td>4.0</td>\n",
       "      <td>0.81</td>\n",
       "    </tr>\n",
       "    <tr>\n",
       "      <th>8</th>\n",
       "      <td>1</td>\n",
       "      <td>apple</td>\n",
       "      <td>braeburn</td>\n",
       "      <td>178</td>\n",
       "      <td>7.1</td>\n",
       "      <td>7.8</td>\n",
       "      <td>0.92</td>\n",
       "    </tr>\n",
       "    <tr>\n",
       "      <th>9</th>\n",
       "      <td>1</td>\n",
       "      <td>apple</td>\n",
       "      <td>braeburn</td>\n",
       "      <td>172</td>\n",
       "      <td>7.4</td>\n",
       "      <td>7.0</td>\n",
       "      <td>0.89</td>\n",
       "    </tr>\n",
       "  </tbody>\n",
       "</table>\n",
       "</div>"
      ],
      "text/plain": [
       "   fruit_label fruit_name fruit_subtype  mass  width  height  color_score\n",
       "0            1      apple  granny_smith   192    8.4     7.3         0.55\n",
       "1            1      apple  granny_smith   180    8.0     6.8         0.59\n",
       "2            1      apple  granny_smith   176    7.4     7.2         0.60\n",
       "3            2   mandarin      mandarin    86    6.2     4.7         0.80\n",
       "4            2   mandarin      mandarin    84    6.0     4.6         0.79\n",
       "5            2   mandarin      mandarin    80    5.8     4.3         0.77\n",
       "6            2   mandarin      mandarin    80    5.9     4.3         0.81\n",
       "7            2   mandarin      mandarin    76    5.8     4.0         0.81\n",
       "8            1      apple      braeburn   178    7.1     7.8         0.92\n",
       "9            1      apple      braeburn   172    7.4     7.0         0.89"
      ]
     },
     "execution_count": 2,
     "metadata": {},
     "output_type": "execute_result"
    }
   ],
   "source": [
    "fruits = pd.read_table('fruit_data_with_colors.txt')\n",
    "fruits.head(10)"
   ]
  },
  {
   "cell_type": "code",
   "execution_count": 3,
   "metadata": {},
   "outputs": [
    {
     "data": {
      "text/plain": [
       "array(['apple', 'mandarin', 'orange', 'lemon'], dtype=object)"
      ]
     },
     "execution_count": 3,
     "metadata": {},
     "output_type": "execute_result"
    }
   ],
   "source": [
    "fruits['fruit_name'].unique()"
   ]
  },
  {
   "cell_type": "code",
   "execution_count": 4,
   "metadata": {},
   "outputs": [
    {
     "name": "stdout",
     "output_type": "stream",
     "text": [
      "(59, 7)\n"
     ]
    }
   ],
   "source": [
    "print(fruits.shape)"
   ]
  },
  {
   "cell_type": "markdown",
   "metadata": {},
   "source": [
    "### Statistical Summary"
   ]
  },
  {
   "cell_type": "code",
   "execution_count": 5,
   "metadata": {},
   "outputs": [
    {
     "data": {
      "text/html": [
       "<div>\n",
       "<style scoped>\n",
       "    .dataframe tbody tr th:only-of-type {\n",
       "        vertical-align: middle;\n",
       "    }\n",
       "\n",
       "    .dataframe tbody tr th {\n",
       "        vertical-align: top;\n",
       "    }\n",
       "\n",
       "    .dataframe thead th {\n",
       "        text-align: right;\n",
       "    }\n",
       "</style>\n",
       "<table border=\"1\" class=\"dataframe\">\n",
       "  <thead>\n",
       "    <tr style=\"text-align: right;\">\n",
       "      <th></th>\n",
       "      <th>fruit_label</th>\n",
       "      <th>mass</th>\n",
       "      <th>width</th>\n",
       "      <th>height</th>\n",
       "      <th>color_score</th>\n",
       "    </tr>\n",
       "  </thead>\n",
       "  <tbody>\n",
       "    <tr>\n",
       "      <th>count</th>\n",
       "      <td>59.000000</td>\n",
       "      <td>59.000000</td>\n",
       "      <td>59.000000</td>\n",
       "      <td>59.000000</td>\n",
       "      <td>59.000000</td>\n",
       "    </tr>\n",
       "    <tr>\n",
       "      <th>mean</th>\n",
       "      <td>2.542373</td>\n",
       "      <td>163.118644</td>\n",
       "      <td>7.105085</td>\n",
       "      <td>7.693220</td>\n",
       "      <td>0.762881</td>\n",
       "    </tr>\n",
       "    <tr>\n",
       "      <th>std</th>\n",
       "      <td>1.208048</td>\n",
       "      <td>55.018832</td>\n",
       "      <td>0.816938</td>\n",
       "      <td>1.361017</td>\n",
       "      <td>0.076857</td>\n",
       "    </tr>\n",
       "    <tr>\n",
       "      <th>min</th>\n",
       "      <td>1.000000</td>\n",
       "      <td>76.000000</td>\n",
       "      <td>5.800000</td>\n",
       "      <td>4.000000</td>\n",
       "      <td>0.550000</td>\n",
       "    </tr>\n",
       "    <tr>\n",
       "      <th>25%</th>\n",
       "      <td>1.000000</td>\n",
       "      <td>140.000000</td>\n",
       "      <td>6.600000</td>\n",
       "      <td>7.200000</td>\n",
       "      <td>0.720000</td>\n",
       "    </tr>\n",
       "    <tr>\n",
       "      <th>50%</th>\n",
       "      <td>3.000000</td>\n",
       "      <td>158.000000</td>\n",
       "      <td>7.200000</td>\n",
       "      <td>7.600000</td>\n",
       "      <td>0.750000</td>\n",
       "    </tr>\n",
       "    <tr>\n",
       "      <th>75%</th>\n",
       "      <td>4.000000</td>\n",
       "      <td>177.000000</td>\n",
       "      <td>7.500000</td>\n",
       "      <td>8.200000</td>\n",
       "      <td>0.810000</td>\n",
       "    </tr>\n",
       "    <tr>\n",
       "      <th>max</th>\n",
       "      <td>4.000000</td>\n",
       "      <td>362.000000</td>\n",
       "      <td>9.600000</td>\n",
       "      <td>10.500000</td>\n",
       "      <td>0.930000</td>\n",
       "    </tr>\n",
       "  </tbody>\n",
       "</table>\n",
       "</div>"
      ],
      "text/plain": [
       "       fruit_label        mass      width     height  color_score\n",
       "count    59.000000   59.000000  59.000000  59.000000    59.000000\n",
       "mean      2.542373  163.118644   7.105085   7.693220     0.762881\n",
       "std       1.208048   55.018832   0.816938   1.361017     0.076857\n",
       "min       1.000000   76.000000   5.800000   4.000000     0.550000\n",
       "25%       1.000000  140.000000   6.600000   7.200000     0.720000\n",
       "50%       3.000000  158.000000   7.200000   7.600000     0.750000\n",
       "75%       4.000000  177.000000   7.500000   8.200000     0.810000\n",
       "max       4.000000  362.000000   9.600000  10.500000     0.930000"
      ]
     },
     "execution_count": 5,
     "metadata": {},
     "output_type": "execute_result"
    }
   ],
   "source": [
    "fruits.describe()"
   ]
  },
  {
   "cell_type": "markdown",
   "metadata": {},
   "source": [
    "### Fruit type distribution"
   ]
  },
  {
   "cell_type": "code",
   "execution_count": 6,
   "metadata": {
    "scrolled": true
   },
   "outputs": [
    {
     "name": "stdout",
     "output_type": "stream",
     "text": [
      "fruit_name\n",
      "apple       19\n",
      "lemon       16\n",
      "mandarin     5\n",
      "orange      19\n",
      "dtype: int64\n"
     ]
    }
   ],
   "source": [
    "print(fruits.groupby('fruit_name').size())"
   ]
  },
  {
   "cell_type": "code",
   "execution_count": 7,
   "metadata": {},
   "outputs": [
    {
     "data": {
      "image/png": "[encoded data removed]",
      "text/plain": [
       "<Figure size 432x288 with 1 Axes>"
      ]
     },
     "metadata": {
      "needs_background": "light"
     },
     "output_type": "display_data"
    }
   ],
   "source": [
    "import seaborn as sns\n",
    "sns.countplot(data=fruits,x='fruit_name',label=\"Count\")\n",
    "plt.show()"
   ]
  },
  {
   "cell_type": "markdown",
   "metadata": {},
   "source": [
    "The data is pretty balanced except mandarin. We will just have to go with it. "
   ]
  },
  {
   "cell_type": "code",
   "execution_count": 9,
   "metadata": {},
   "outputs": [
    {
     "data": {
      "image/png": "[encoded data removed]",
      "text/plain": [
       "<Figure size 648x648 with 4 Axes>"
      ]
     },
     "metadata": {
      "needs_background": "light"
     },
     "output_type": "display_data"
    }
   ],
   "source": [
    "import pylab as pl\n",
    "fruits.drop('fruit_label' ,axis=1).hist(bins=30, figsize=(9,9))\n",
    "pl.suptitle(\"Histogram for each numeric input variable\")\n",
    "plt.savefig('fruits_hist')\n",
    "plt.show()"
   ]
  },
  {
   "cell_type": "code",
   "execution_count": 11,
   "metadata": {},
   "outputs": [
    {
     "name": "stdout",
     "output_type": "stream",
     "text": [
      "    mass  width  height  color_score\n",
      "0    192    8.4     7.3         0.55\n",
      "1    180    8.0     6.8         0.59\n",
      "2    176    7.4     7.2         0.60\n",
      "3     86    6.2     4.7         0.80\n",
      "4     84    6.0     4.6         0.79\n",
      "5     80    5.8     4.3         0.77\n",
      "6     80    5.9     4.3         0.81\n",
      "7     76    5.8     4.0         0.81\n",
      "8    178    7.1     7.8         0.92\n",
      "9    172    7.4     7.0         0.89\n",
      "10   166    6.9     7.3         0.93\n",
      "11   172    7.1     7.6         0.92\n",
      "12   154    7.0     7.1         0.88\n",
      "13   164    7.3     7.7         0.70\n",
      "14   152    7.6     7.3         0.69\n",
      "15   156    7.7     7.1         0.69\n",
      "16   156    7.6     7.5         0.67\n",
      "17   168    7.5     7.6         0.73\n",
      "18   162    7.5     7.1         0.83\n",
      "19   162    7.4     7.2         0.85\n",
      "20   160    7.5     7.5         0.86\n",
      "21   156    7.4     7.4         0.84\n",
      "22   140    7.3     7.1         0.87\n",
      "23   170    7.6     7.9         0.88\n",
      "24   342    9.0     9.4         0.75\n",
      "25   356    9.2     9.2         0.75\n",
      "26   362    9.6     9.2         0.74\n",
      "27   204    7.5     9.2         0.77\n",
      "28   140    6.7     7.1         0.72\n",
      "29   160    7.0     7.4         0.81\n",
      "30   158    7.1     7.5         0.79\n",
      "31   210    7.8     8.0         0.82\n",
      "32   164    7.2     7.0         0.80\n",
      "33   190    7.5     8.1         0.74\n",
      "34   142    7.6     7.8         0.75\n",
      "35   150    7.1     7.9         0.75\n",
      "36   160    7.1     7.6         0.76\n",
      "37   154    7.3     7.3         0.79\n",
      "38   158    7.2     7.8         0.77\n",
      "39   144    6.8     7.4         0.75\n",
      "40   154    7.1     7.5         0.78\n",
      "41   180    7.6     8.2         0.79\n",
      "42   154    7.2     7.2         0.82\n",
      "43   194    7.2    10.3         0.70\n",
      "44   200    7.3    10.5         0.72\n",
      "45   186    7.2     9.2         0.72\n",
      "46   216    7.3    10.2         0.71\n",
      "47   196    7.3     9.7         0.72\n",
      "48   174    7.3    10.1         0.72\n",
      "49   132    5.8     8.7         0.73\n",
      "50   130    6.0     8.2         0.71\n",
      "51   116    6.0     7.5         0.72\n",
      "52   118    5.9     8.0         0.72\n",
      "53   120    6.0     8.4         0.74\n",
      "54   116    6.1     8.5         0.71\n",
      "55   116    6.3     7.7         0.72\n",
      "56   116    5.9     8.1         0.73\n",
      "57   152    6.5     8.5         0.72\n",
      "58   118    6.1     8.1         0.70\n",
      "0     1\n",
      "1     1\n",
      "2     1\n",
      "3     2\n",
      "4     2\n",
      "5     2\n",
      "6     2\n",
      "7     2\n",
      "8     1\n",
      "9     1\n",
      "10    1\n",
      "11    1\n",
      "12    1\n",
      "13    1\n",
      "14    1\n",
      "15    1\n",
      "16    1\n",
      "17    1\n",
      "18    1\n",
      "19    1\n",
      "20    1\n",
      "21    1\n",
      "22    1\n",
      "23    1\n",
      "24    3\n",
      "25    3\n",
      "26    3\n",
      "27    3\n",
      "28    3\n",
      "29    3\n",
      "30    3\n",
      "31    3\n",
      "32    3\n",
      "33    3\n",
      "34    3\n",
      "35    3\n",
      "36    3\n",
      "37    3\n",
      "38    3\n",
      "39    3\n",
      "40    3\n",
      "41    3\n",
      "42    3\n",
      "43    4\n",
      "44    4\n",
      "45    4\n",
      "46    4\n",
      "47    4\n",
      "48    4\n",
      "49    4\n",
      "50    4\n",
      "51    4\n",
      "52    4\n",
      "53    4\n",
      "54    4\n",
      "55    4\n",
      "56    4\n",
      "57    4\n",
      "58    4\n",
      "Name: fruit_label, dtype: int64\n"
     ]
    }
   ],
   "source": [
    "feature_names = ['mass', 'width', 'height', 'color_score']\n",
    "X = fruits[feature_names]\n",
    "y = fruits['fruit_label']\n",
    "print(X)\n",
    "print(y)"
   ]
  },
  {
   "cell_type": "markdown",
   "metadata": {},
   "source": [
    "### Create training and test sets"
   ]
  },
  {
   "cell_type": "code",
   "execution_count": 13,
   "metadata": {},
   "outputs": [
    {
     "name": "stdout",
     "output_type": "stream",
     "text": [
      "    mass  width  height  color_score\n",
      "42   154    7.2     7.2         0.82\n",
      "48   174    7.3    10.1         0.72\n",
      "7     76    5.8     4.0         0.81\n",
      "14   152    7.6     7.3         0.69\n",
      "32   164    7.2     7.0         0.80\n",
      "49   132    5.8     8.7         0.73\n",
      "29   160    7.0     7.4         0.81\n",
      "37   154    7.3     7.3         0.79\n",
      "56   116    5.9     8.1         0.73\n",
      "18   162    7.5     7.1         0.83\n",
      "55   116    6.3     7.7         0.72\n",
      "27   204    7.5     9.2         0.77\n",
      "15   156    7.7     7.1         0.69\n",
      "5     80    5.8     4.3         0.77\n",
      "31   210    7.8     8.0         0.82\n",
      "16   156    7.6     7.5         0.67\n",
      "50   130    6.0     8.2         0.71\n",
      "20   160    7.5     7.5         0.86\n",
      "51   116    6.0     7.5         0.72\n",
      "8    178    7.1     7.8         0.92\n",
      "13   164    7.3     7.7         0.70\n",
      "25   356    9.2     9.2         0.75\n",
      "17   168    7.5     7.6         0.73\n",
      "58   118    6.1     8.1         0.70\n",
      "57   152    6.5     8.5         0.72\n",
      "52   118    5.9     8.0         0.72\n",
      "38   158    7.2     7.8         0.77\n",
      "1    180    8.0     6.8         0.59\n",
      "12   154    7.0     7.1         0.88\n",
      "45   186    7.2     9.2         0.72\n",
      "24   342    9.0     9.4         0.75\n",
      "6     80    5.9     4.3         0.81\n",
      "23   170    7.6     7.9         0.88\n",
      "36   160    7.1     7.6         0.76\n",
      "21   156    7.4     7.4         0.84\n",
      "19   162    7.4     7.2         0.85\n",
      "9    172    7.4     7.0         0.89\n",
      "39   144    6.8     7.4         0.75\n",
      "54   116    6.1     8.5         0.71\n",
      "3     86    6.2     4.7         0.80\n",
      "0    192    8.4     7.3         0.55\n",
      "53   120    6.0     8.4         0.74\n",
      "47   196    7.3     9.7         0.72\n",
      "44   200    7.3    10.5         0.72     mass  width  height  color_score\n",
      "26   362    9.6     9.2         0.74\n",
      "35   150    7.1     7.9         0.75\n",
      "43   194    7.2    10.3         0.70\n",
      "28   140    6.7     7.1         0.72\n",
      "11   172    7.1     7.6         0.92\n",
      "2    176    7.4     7.2         0.60\n",
      "34   142    7.6     7.8         0.75\n",
      "46   216    7.3    10.2         0.71\n",
      "40   154    7.1     7.5         0.78\n",
      "22   140    7.3     7.1         0.87\n",
      "4     84    6.0     4.6         0.79\n",
      "10   166    6.9     7.3         0.93\n",
      "30   158    7.1     7.5         0.79\n",
      "41   180    7.6     8.2         0.79\n",
      "33   190    7.5     8.1         0.74 42    3\n",
      "48    4\n",
      "7     2\n",
      "14    1\n",
      "32    3\n",
      "49    4\n",
      "29    3\n",
      "37    3\n",
      "56    4\n",
      "18    1\n",
      "55    4\n",
      "27    3\n",
      "15    1\n",
      "5     2\n",
      "31    3\n",
      "16    1\n",
      "50    4\n",
      "20    1\n",
      "51    4\n",
      "8     1\n",
      "13    1\n",
      "25    3\n",
      "17    1\n",
      "58    4\n",
      "57    4\n",
      "52    4\n",
      "38    3\n",
      "1     1\n",
      "12    1\n",
      "45    4\n",
      "24    3\n",
      "6     2\n",
      "23    1\n",
      "36    3\n",
      "21    1\n",
      "19    1\n",
      "9     1\n",
      "39    3\n",
      "54    4\n",
      "3     2\n",
      "0     1\n",
      "53    4\n",
      "47    4\n",
      "44    4\n",
      "Name: fruit_label, dtype: int64 26    3\n",
      "35    3\n",
      "43    4\n",
      "28    3\n",
      "11    1\n",
      "2     1\n",
      "34    3\n",
      "46    4\n",
      "40    3\n",
      "22    1\n",
      "4     2\n",
      "10    1\n",
      "30    3\n",
      "41    3\n",
      "33    3\n",
      "Name: fruit_label, dtype: int64\n"
     ]
    }
   ],
   "source": [
    "from sklearn.model_selection import train_test_split\n",
    "\n",
    "X_train, X_test, y_train, y_test = train_test_split(X, y, random_state=0)\n",
    "print(X_train, X_test, y_train, y_test)"
   ]
  },
  {
   "cell_type": "markdown",
   "metadata": {},
   "source": [
    "### Apply scalling"
   ]
  },
  {
   "cell_type": "code",
   "execution_count": 14,
   "metadata": {},
   "outputs": [
    {
     "name": "stdout",
     "output_type": "stream",
     "text": [
      "[[0.27857143 0.41176471 0.49230769 0.72972973]\n",
      " [0.35       0.44117647 0.93846154 0.45945946]\n",
      " [0.         0.         0.         0.7027027 ]\n",
      " [0.27142857 0.52941176 0.50769231 0.37837838]\n",
      " [0.31428571 0.41176471 0.46153846 0.67567568]\n",
      " [0.2        0.         0.72307692 0.48648649]\n",
      " [0.3        0.35294118 0.52307692 0.7027027 ]\n",
      " [0.27857143 0.44117647 0.50769231 0.64864865]\n",
      " [0.14285714 0.02941176 0.63076923 0.48648649]\n",
      " [0.30714286 0.5        0.47692308 0.75675676]\n",
      " [0.14285714 0.14705882 0.56923077 0.45945946]\n",
      " [0.45714286 0.5        0.8        0.59459459]\n",
      " [0.28571429 0.55882353 0.47692308 0.37837838]\n",
      " [0.01428571 0.         0.04615385 0.59459459]\n",
      " [0.47857143 0.58823529 0.61538462 0.72972973]\n",
      " [0.28571429 0.52941176 0.53846154 0.32432432]\n",
      " [0.19285714 0.05882353 0.64615385 0.43243243]\n",
      " [0.3        0.5        0.53846154 0.83783784]\n",
      " [0.14285714 0.05882353 0.53846154 0.45945946]\n",
      " [0.36428571 0.38235294 0.58461538 1.        ]\n",
      " [0.31428571 0.44117647 0.56923077 0.40540541]\n",
      " [1.         1.         0.8        0.54054054]\n",
      " [0.32857143 0.5        0.55384615 0.48648649]\n",
      " [0.15       0.08823529 0.63076923 0.40540541]\n",
      " [0.27142857 0.20588235 0.69230769 0.45945946]\n",
      " [0.15       0.02941176 0.61538462 0.45945946]\n",
      " [0.29285714 0.41176471 0.58461538 0.59459459]\n",
      " [0.37142857 0.64705882 0.43076923 0.10810811]\n",
      " [0.27857143 0.35294118 0.47692308 0.89189189]\n",
      " [0.39285714 0.41176471 0.8        0.45945946]\n",
      " [0.95       0.94117647 0.83076923 0.54054054]\n",
      " [0.01428571 0.02941176 0.04615385 0.7027027 ]\n",
      " [0.33571429 0.52941176 0.6        0.89189189]\n",
      " [0.3        0.38235294 0.55384615 0.56756757]\n",
      " [0.28571429 0.47058824 0.52307692 0.78378378]\n",
      " [0.30714286 0.47058824 0.49230769 0.81081081]\n",
      " [0.34285714 0.47058824 0.46153846 0.91891892]\n",
      " [0.24285714 0.29411765 0.52307692 0.54054054]\n",
      " [0.14285714 0.08823529 0.69230769 0.43243243]\n",
      " [0.03571429 0.11764706 0.10769231 0.67567568]\n",
      " [0.41428571 0.76470588 0.50769231 0.        ]\n",
      " [0.15714286 0.05882353 0.67692308 0.51351351]\n",
      " [0.42857143 0.44117647 0.87692308 0.45945946]\n",
      " [0.44285714 0.44117647 1.         0.45945946]]\n",
      "[[1.02142857 1.11764706 0.8        0.51351351]\n",
      " [0.26428571 0.38235294 0.6        0.54054054]\n",
      " [0.42142857 0.41176471 0.96923077 0.40540541]\n",
      " [0.22857143 0.26470588 0.47692308 0.45945946]\n",
      " [0.34285714 0.38235294 0.55384615 1.        ]\n",
      " [0.35714286 0.47058824 0.49230769 0.13513514]\n",
      " [0.23571429 0.52941176 0.58461538 0.54054054]\n",
      " [0.5        0.44117647 0.95384615 0.43243243]\n",
      " [0.27857143 0.38235294 0.53846154 0.62162162]\n",
      " [0.22857143 0.44117647 0.47692308 0.86486486]\n",
      " [0.02857143 0.05882353 0.09230769 0.64864865]\n",
      " [0.32142857 0.32352941 0.50769231 1.02702703]\n",
      " [0.29285714 0.38235294 0.53846154 0.64864865]\n",
      " [0.37142857 0.52941176 0.64615385 0.64864865]\n",
      " [0.40714286 0.5        0.63076923 0.51351351]]\n"
     ]
    }
   ],
   "source": [
    "from sklearn.preprocessing import MinMaxScaler\n",
    "scaler = MinMaxScaler()\n",
    "X_train = scaler.fit_transform(X_train)\n",
    "X_test = scaler.transform(X_test)\n",
    "print(X_train)\n",
    "print(X_test)\n"
   ]
  },
  {
   "cell_type": "markdown",
   "metadata": {},
   "source": [
    "## Build Models\n",
    "\n",
    "### Logistic Regression"
   ]
  },
  {
   "cell_type": "code",
   "execution_count": 15,
   "metadata": {},
   "outputs": [
    {
     "name": "stdout",
     "output_type": "stream",
     "text": [
      "Accuracy of Logistic regression classifier on training set: 0.75\n",
      "Accuracy of Logistic regression classifier on test set: 0.47\n"
     ]
    }
   ],
   "source": [
    "from sklearn.linear_model import LogisticRegression\n",
    "\n",
    "logreg = LogisticRegression()\n",
    "logreg.fit(X_train, y_train)\n",
    "\n",
    "print('Accuracy of Logistic regression classifier on training set: {:.2f}'\n",
    "     .format(logreg.score(X_train, y_train)))\n",
    "print('Accuracy of Logistic regression classifier on test set: {:.2f}'\n",
    "     .format(logreg.score(X_test, y_test)))"
   ]
  },
  {
   "cell_type": "markdown",
   "metadata": {},
   "source": [
    "### Decision Tree"
   ]
  },
  {
   "cell_type": "code",
   "execution_count": 16,
   "metadata": {},
   "outputs": [
    {
     "name": "stdout",
     "output_type": "stream",
     "text": [
      "Accuracy of Decision Tree classifier on training set: 1.00\n",
      "Accuracy of Decision Tree classifier on test set: 0.87\n"
     ]
    }
   ],
   "source": [
    "from sklearn.tree import DecisionTreeClassifier\n",
    "\n",
    "clf = DecisionTreeClassifier().fit(X_train, y_train)\n",
    "\n",
    "print('Accuracy of Decision Tree classifier on training set: {:.2f}'\n",
    "     .format(clf.score(X_train, y_train)))\n",
    "print('Accuracy of Decision Tree classifier on test set: {:.2f}'\n",
    "     .format(clf.score(X_test, y_test)))"
   ]
  },
  {
   "cell_type": "markdown",
   "metadata": {},
   "source": [
    "#### Setting max decision tree depth to help avoid overfitting"
   ]
  },
  {
   "cell_type": "code",
   "execution_count": 17,
   "metadata": {},
   "outputs": [
    {
     "name": "stdout",
     "output_type": "stream",
     "text": [
      "Accuracy of Decision Tree classifier on training set: 0.89\n",
      "Accuracy of Decision Tree classifier on test set: 0.60\n"
     ]
    }
   ],
   "source": [
    "clf2 = DecisionTreeClassifier(max_depth=3).fit(X_train, y_train)\n",
    "print('Accuracy of Decision Tree classifier on training set: {:.2f}'\n",
    "     .format(clf2.score(X_train, y_train)))\n",
    "print('Accuracy of Decision Tree classifier on test set: {:.2f}'\n",
    "     .format(clf2.score(X_test, y_test)))"
   ]
  },
  {
   "cell_type": "markdown",
   "metadata": {},
   "source": [
    "### K-Nearest Neighbors"
   ]
  },
  {
   "cell_type": "code",
   "execution_count": 18,
   "metadata": {},
   "outputs": [
    {
     "name": "stdout",
     "output_type": "stream",
     "text": [
      "Accuracy of K-NN classifier on training set: 0.95\n",
      "Accuracy of K-NN classifier on test set: 1.00\n"
     ]
    }
   ],
   "source": [
    "from sklearn.neighbors import KNeighborsClassifier\n",
    "\n",
    "knn = KNeighborsClassifier()\n",
    "knn.fit(X_train, y_train)\n",
    "print('Accuracy of K-NN classifier on training set: {:.2f}'\n",
    "     .format(knn.score(X_train, y_train)))\n",
    "print('Accuracy of K-NN classifier on test set: {:.2f}'\n",
    "     .format(knn.score(X_test, y_test)))"
   ]
  },
  {
   "cell_type": "markdown",
   "metadata": {},
   "source": [
    "### Gaussian Naive Bayes"
   ]
  },
  {
   "cell_type": "code",
   "execution_count": 20,
   "metadata": {},
   "outputs": [
    {
     "name": "stdout",
     "output_type": "stream",
     "text": [
      "Accuracy of GNB classifier on training set: 0.86\n",
      "Accuracy of GNB classifier on test set: 0.67\n"
     ]
    }
   ],
   "source": [
    "from sklearn.naive_bayes import GaussianNB\n",
    "\n",
    "gnb = GaussianNB()\n",
    "gnb.fit(X_train, y_train)\n",
    "print('Accuracy of GNB classifier on training set: {:.2f}'\n",
    "     .format(gnb.score(X_train, y_train)))\n",
    "print('Accuracy of GNB classifier on test set: {:.2f}'\n",
    "     .format(gnb.score(X_test, y_test)))"
   ]
  },
  {
   "cell_type": "markdown",
   "metadata": {},
   "source": [
    "### Support Vector Machine"
   ]
  },
  {
   "cell_type": "code",
   "execution_count": 21,
   "metadata": {},
   "outputs": [
    {
     "name": "stdout",
     "output_type": "stream",
     "text": [
      "Accuracy of SVM classifier on training set: 0.91\n",
      "Accuracy of SVM classifier on test set: 0.80\n"
     ]
    }
   ],
   "source": [
    "from sklearn.svm import SVC\n",
    "\n",
    "svm = SVC()\n",
    "svm.fit(X_train, y_train)\n",
    "print('Accuracy of SVM classifier on training set: {:.2f}'\n",
    "     .format(svm.score(X_train, y_train)))\n",
    "print('Accuracy of SVM classifier on test set: {:.2f}'\n",
    "     .format(svm.score(X_test, y_test)))"
   ]
  },
  {
   "cell_type": "code",
   "execution_count": 28,
   "metadata": {},
   "outputs": [
    {
     "name": "stdout",
     "output_type": "stream",
     "text": [
      "[0.6, 0.5333333333333333, 0.5333333333333333, 0.5333333333333333, 0.5333333333333333, 0.6, 0.5333333333333333, 0.4666666666666667, 0.5333333333333333, 0.3333333333333333, 0.3333333333333333, 0.3333333333333333, 0.26666666666666666, 0.3333333333333333, 0.26666666666666666, 0.26666666666666666, 0.26666666666666666, 0.26666666666666666, 0.26666666666666666]\n"
     ]
    },
    {
     "data": {
      "image/png": "[encoded data removed]",
      "text/plain": [
       "<Figure size 432x288 with 1 Axes>"
      ]
     },
     "metadata": {
      "needs_background": "light"
     },
     "output_type": "display_data"
    }
   ],
   "source": [
    "k_range = range(1, 20)\n",
    "scores = []\n",
    "\n",
    "for k in k_range:\n",
    "    knn = KNeighborsClassifier(n_neighbors = k)\n",
    "    knn.fit(X_train, y_train)\n",
    "    scores.append(knn.score(X_test, y_test))\n",
    "plt.figure()\n",
    "plt.xlabel('k')\n",
    "plt.ylabel('accuracy')\n",
    "plt.scatter(k_range, scores)\n",
    "plt.xticks([0,5,10,15,20])\n",
    "print(scores)"
   ]
  },
  {
   "cell_type": "markdown",
   "metadata": {},
   "source": [
    "For this particular dateset, we obtain the highest accuracy when k=6."
   ]
  }
 ],
 "metadata": {
  "kernelspec": {
   "display_name": "Python 3",
   "language": "python",
   "name": "python3"
  },
  "language_info": {
   "codemirror_mode": {
    "name": "ipython",
    "version": 3
   },
   "file_extension": ".py",
   "mimetype": "text/x-python",
   "name": "python",
   "nbconvert_exporter": "python",
   "pygments_lexer": "ipython3",
   "version": "3.8.8"
  }
 },
 "nbformat": 4,
 "nbformat_minor": 2
}
